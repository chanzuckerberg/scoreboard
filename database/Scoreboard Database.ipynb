{
 "cells": [
  {
   "cell_type": "code",
   "execution_count": 1,
   "metadata": {
    "collapsed": true
   },
   "outputs": [],
   "source": [
    "from sqlalchemy import create_engine\n",
    "from sqlalchemy import Column, Integer, Boolean, String, DateTime, ForeignKey\n",
    "from sqlalchemy.ext.declarative import declarative_base\n",
    "from sqlalchemy.dialects.postgresql import JSONB\n",
    "import datetime\n",
    "import os"
   ]
  },
  {
   "cell_type": "code",
   "execution_count": 2,
   "metadata": {},
   "outputs": [
    {
     "ename": "KeyError",
     "evalue": "'PG_USERNAME'",
     "output_type": "error",
     "traceback": [
      "\u001b[0;31m---------------------------------------------------------------------------\u001b[0m",
      "\u001b[0;31mKeyError\u001b[0m                                  Traceback (most recent call last)",
      "\u001b[0;32m<ipython-input-2-0339b91e41bb>\u001b[0m in \u001b[0;36m<module>\u001b[0;34m()\u001b[0m\n\u001b[0;32m----> 1\u001b[0;31m \u001b[0mpg_user\u001b[0m \u001b[0;34m=\u001b[0m \u001b[0mos\u001b[0m\u001b[0;34m.\u001b[0m\u001b[0menviron\u001b[0m\u001b[0;34m[\u001b[0m\u001b[0;34m'PG_USERNAME'\u001b[0m\u001b[0;34m]\u001b[0m\u001b[0;34m\u001b[0m\u001b[0m\n\u001b[0m\u001b[1;32m      2\u001b[0m \u001b[0mpg_pass\u001b[0m \u001b[0;34m=\u001b[0m \u001b[0mos\u001b[0m\u001b[0;34m.\u001b[0m\u001b[0menviron\u001b[0m\u001b[0;34m[\u001b[0m\u001b[0;34m'PG_PASSWORD'\u001b[0m\u001b[0;34m]\u001b[0m\u001b[0;34m\u001b[0m\u001b[0m\n",
      "\u001b[0;32m/Users/charlotteweaver/anaconda/lib/python3.6/os.py\u001b[0m in \u001b[0;36m__getitem__\u001b[0;34m(self, key)\u001b[0m\n\u001b[1;32m    667\u001b[0m         \u001b[0;32mexcept\u001b[0m \u001b[0mKeyError\u001b[0m\u001b[0;34m:\u001b[0m\u001b[0;34m\u001b[0m\u001b[0m\n\u001b[1;32m    668\u001b[0m             \u001b[0;31m# raise KeyError with the original key value\u001b[0m\u001b[0;34m\u001b[0m\u001b[0;34m\u001b[0m\u001b[0m\n\u001b[0;32m--> 669\u001b[0;31m             \u001b[0;32mraise\u001b[0m \u001b[0mKeyError\u001b[0m\u001b[0;34m(\u001b[0m\u001b[0mkey\u001b[0m\u001b[0;34m)\u001b[0m \u001b[0;32mfrom\u001b[0m \u001b[0;32mNone\u001b[0m\u001b[0;34m\u001b[0m\u001b[0m\n\u001b[0m\u001b[1;32m    670\u001b[0m         \u001b[0;32mreturn\u001b[0m \u001b[0mself\u001b[0m\u001b[0;34m.\u001b[0m\u001b[0mdecodevalue\u001b[0m\u001b[0;34m(\u001b[0m\u001b[0mvalue\u001b[0m\u001b[0;34m)\u001b[0m\u001b[0;34m\u001b[0m\u001b[0m\n\u001b[1;32m    671\u001b[0m \u001b[0;34m\u001b[0m\u001b[0m\n",
      "\u001b[0;31mKeyError\u001b[0m: 'PG_USERNAME'"
     ]
    }
   ],
   "source": [
    "pg_user = os.environ['PG_USERNAME']\n",
    "pg_pass = os.environ['PG_PASSWORD']"
   ]
  },
  {
   "cell_type": "code",
   "execution_count": 3,
   "metadata": {},
   "outputs": [
    {
     "ename": "NameError",
     "evalue": "name 'pg_user' is not defined",
     "output_type": "error",
     "traceback": [
      "\u001b[0;31m---------------------------------------------------------------------------\u001b[0m",
      "\u001b[0;31mNameError\u001b[0m                                 Traceback (most recent call last)",
      "\u001b[0;32m<ipython-input-3-502d108ff97d>\u001b[0m in \u001b[0;36m<module>\u001b[0;34m()\u001b[0m\n\u001b[1;32m      1\u001b[0m engine = create_engine(\n\u001b[0;32m----> 2\u001b[0;31m     \"postgresql://{}:{}@localhost:5555/scoreboard\".format(pg_user, pg_pass))\n\u001b[0m\u001b[1;32m      3\u001b[0m \u001b[0mBase\u001b[0m \u001b[0;34m=\u001b[0m \u001b[0mdeclarative_base\u001b[0m\u001b[0;34m(\u001b[0m\u001b[0;34m)\u001b[0m\u001b[0;34m\u001b[0m\u001b[0m\n",
      "\u001b[0;31mNameError\u001b[0m: name 'pg_user' is not defined"
     ]
    }
   ],
   "source": [
    "engine = create_engine(\n",
    "    \"postgresql://{}:{}@localhost:5555/scoreboard\".format(pg_user, pg_pass))\n",
    "Base = declarative_base()"
   ]
  },
  {
   "cell_type": "code",
   "execution_count": 23,
   "metadata": {
    "collapsed": true
   },
   "outputs": [],
   "source": [
    "class User(Base):\n",
    "    __tablename__ = 'users'\n",
    "    __table_args__ = {'extend_existing': True} \n",
    "    id = Column(Integer, primary_key=True, nullable=False)\n",
    "    github_username = Column(String, nullable=False)\n",
    "    name = Column(String)\n",
    "    email = Column(String)\n",
    "    is_admin = Column(Boolean, nullable=False)\n",
    "    \n",
    "class Challenge(Base):\n",
    "    __tablename__ = 'challenges'\n",
    "    __table_args__ = {'extend_existing': True} \n",
    "    id = Column(Integer, primary_key=True, nullable=False)\n",
    "    name = Column(String, nullable=False)\n",
    "    description = Column(String)\n",
    "    start_date = Column(DateTime, nullable=False, default=datetime.datetime.utcnow)\n",
    "    image_path = Column(String)\n",
    "    is_open = Column(Boolean, nullable=False)\n",
    "\n",
    "class Dataset(Base):\n",
    "    __tablename__ = 'datasets'\n",
    "    __table_args__ = {'extend_existing': True} \n",
    "    id = Column(Integer, primary_key=True, nullable=False)\n",
    "    name = Column(String, nullable=False)\n",
    "    description = Column(String)\n",
    "    dataset_metadata = Column(JSONB)\n",
    "    challenge_id = Column(Integer, ForeignKey(\"challenges.id\", onupdate=\"CASCADE\", ondelete=\"CASCADE\"), nullable=False)\n",
    "    \n",
    "class Submission(Base):\n",
    "    __tablename__ = 'submissions'\n",
    "    __table_args__ = {'extend_existing': True} \n",
    "    id = Column(Integer, primary_key=True)\n",
    "    user_id = Column(Integer, ForeignKey(\"users.id\", onupdate=\"CASCADE\", ondelete=\"CASCADE\"), nullable=False)\n",
    "    challenge_id = Column(Integer, ForeignKey(\"challenges.id\", onupdate=\"CASCADE\", ondelete=\"CASCADE\"), nullable=False)\n",
    "    name = Column(String, nullable=False)\n",
    "    repository = Column(String, nullable=False)\n",
    "    results_path = Column(String, nullable=False)\n",
    "    score_data = Column(JSONB)\n",
    "    is_private = Column(Boolean, nullable=False)\n",
    "    institution = Column(String)\n",
    "    publication = Column(String)\n",
    "    submission_date = Column(DateTime, nullable=False, default=datetime.datetime.utcnow)\n",
    "    is_accepted = Column(Boolean, nullable=False)\n",
    "\n",
    "                \n"
   ]
  },
  {
   "cell_type": "code",
   "execution_count": 24,
   "metadata": {
    "collapsed": true
   },
   "outputs": [],
   "source": [
    "Base.metadata.create_all(engine)\n"
   ]
  },
  {
   "cell_type": "code",
   "execution_count": null,
   "metadata": {
    "collapsed": true
   },
   "outputs": [],
   "source": []
  },
  {
   "cell_type": "code",
   "execution_count": 25,
   "metadata": {
    "collapsed": true
   },
   "outputs": [],
   "source": []
  },
  {
   "cell_type": "code",
   "execution_count": 26,
   "metadata": {
    "collapsed": true
   },
   "outputs": [],
   "source": [
    "Base.metadata.bind = engine\n",
    "DBSession = sessionmaker(bind=engine)\n",
    "session = DBSession()"
   ]
  },
  {
   "cell_type": "code",
   "execution_count": 27,
   "metadata": {
    "collapsed": true
   },
   "outputs": [],
   "source": [
    "users = [\n",
    "    {\"github_username\":\"gh_one\", \"name\":\"HCA\", \"email\":\"\", \"is_admin\":False},\n",
    "    {\"github_username\":\"gh_two\", \"name\":\"CZI\", \"email\":\"\", \"is_admin\":False},\n",
    "    {\"github_username\":\"gh_three\", \"name\":\"admin\", \"email\":\"\", \"is_admin\":True},\n",
    "    {\"github_username\":\"gh_four\", \"name\":\"external user\", \"email\":\"\", \"is_admin\":False},\n",
    "]\n",
    "\n",
    "for user in users:\n",
    "    new_user = User(**user)\n",
    "    session.add(new_user)\n",
    "session.commit()"
   ]
  },
  {
   "cell_type": "code",
   "execution_count": 28,
   "metadata": {
    "collapsed": true
   },
   "outputs": [],
   "source": [
    "challenges = [\n",
    "    {\"name\":\"doublet detection\", \"description\":\"this challenge is doublet detection\", \"image_path\":\"http://via.placeholder.com/100/00ccff\", \"is_open\":True},\n",
    "    {\"name\":\"cell identification\", \"description\":\"this challenge is cell identification\", \"image_path\":\"http://via.placeholder.com/100/00ccff\", \"is_open\":True},\n",
    "    {\"name\":\"batch effect correction\", \"description\":\"this challenge is batch effect correction\", \"image_path\":\"http://via.placeholder.com/100/00ccff\", \"is_open\":True},\n",
    "    {\"name\":\"experimental design\", \"description\":\"this challenge is experimental design\", \"image_path\":\"http://via.placeholder.com/100/00ccff\", \"is_open\":True},\n",
    "    {\"name\":\"cell type clustering\", \"description\":\"this challenge is cell type clustering\", \"image_path\":\"http://via.placeholder.com/100/00ccff\", \"is_open\":True},\n",
    "]\n",
    "for challenge in challenges:\n",
    "    new_challenge = Challenge(**challenge)\n",
    "    session.add(new_challenge)\n",
    "session.commit()"
   ]
  },
  {
   "cell_type": "code",
   "execution_count": 29,
   "metadata": {
    "collapsed": true
   },
   "outputs": [],
   "source": [
    "\n",
    "\n",
    "datasets = [\n",
    "    {\"name\":\"dataset1\", \"description\":\"Bams and fastqs from Ye2\", \"dataset_metadata\":[\t\t { \"id\": \"doublet-datasets/dataset1\", \"parent\": \"#\", \"text\": \"dataset1\", },\n",
    "\t\t\t { \"id\": \"doublet-datasets/dataset1/Ye2_L001_001.bam\", \"parent\": \"doublet-datasets/dataset1\", \"text\": \"Ye2_L001_001.bam (8G)\"},\n",
    "\t\t\t { \"id\": \"doublet-datasets/dataset1/Ye2_L001_001_test.bam\", \"parent\": \"doublet-datasets/dataset1\", \"text\": \"Ye2_L001_001_test.bam (4G)\"},\n",
    "\t\t\t { \"id\": \"doublet-datasets/dataset1/Ye2_L001_001_test_labels_predict_me.txt\", \"parent\": \"doublet-datasets/dataset1\", \"text\": \"Ye2_L001_001_test_labels_predict_me.txt (183K)\"},\n",
    "\t\t\t { \"id\": \"doublet-datasets/dataset1/Ye2_L001_001_train.bam\", \"parent\": \"doublet-datasets/dataset1\", \"text\": \"Ye2_L001_001_train.bam (4G)\"},\n",
    "\t\t\t { \"id\": \"doublet-datasets/dataset1/Ye2_L001_001_train_labels.txt\", \"parent\": \"doublet-datasets/dataset1\", \"text\": \"Ye2_L001_001_train_labels.txt (271K)\"},\n",
    "\t\t\t { \"id\": \"doublet-datasets/dataset1/Ye2_L001_I1_001.fastq.gz\", \"parent\": \"doublet-datasets/dataset1\", \"text\": \"Ye2_L001_I1_001.fastq.gz (637M)\"},\n",
    "\t\t\t { \"id\": \"doublet-datasets/dataset1/Ye2_L001_R1_001.fastq.gz\", \"parent\": \"doublet-datasets/dataset1\", \"text\": \"Ye2_L001_R1_001.fastq.gz (2G)\"},\n",
    "\t\t\t { \"id\": \"doublet-datasets/dataset1/Ye2_L001_R2_001.fastq.gz\", \"parent\": \"doublet-datasets/dataset1\", \"text\": \"Ye2_L001_R2_001.fastq.gz (8G)\"},\n",
    "\t\t\t { \"id\": \"doublet-datasets/dataset1/Ye2_barcode_id.csv\", \"parent\": \"doublet-datasets/dataset1\", \"text\": \"Ye2_barcode_id.csv (8M)\"},\n",
    "\t\t\t { \"id\": \"doublet-datasets/dataset1/Ye2_gene_id.csv\", \"parent\": \"doublet-datasets/dataset1\", \"text\": \"Ye2_gene_id.csv (409K)\"},\n",
    "\t\t\t { \"id\": \"doublet-datasets/dataset1/Ye2_sparse_molecule_counts.mtx\", \"parent\": \"doublet-datasets/dataset1\", \"text\": \"Ye2_sparse_molecule_counts.mtx (278M)\"},], \n",
    "     \"challenge_id\": 1},\n",
    "    {\"name\":\"dataset2\", \"description\":\"Bams and fastqs from Ye032917\", \"dataset_metadata\":[{ \"id\": \"doublet-datasets/dataset2\", \"parent\": \"#\", \"text\": \"dataset2\", },\n",
    "\t\t\t { \"id\": \"doublet-datasets/dataset2/Ye032917_S4_L003_001.bam\", \"parent\": \"doublet-datasets/dataset2\", \"text\": \"Ye032917_S4_L003_001.bam (16G)\"},\n",
    "\t\t\t { \"id\": \"doublet-datasets/dataset2/Ye032917_S4_L003_001_test.bam\", \"parent\": \"doublet-datasets/dataset2\", \"text\": \"Ye032917_S4_L003_001_test.bam (8G)\"},\n",
    "\t\t\t { \"id\": \"doublet-datasets/dataset2/Ye032917_S4_L003_001_train.bam\", \"parent\": \"doublet-datasets/dataset2\", \"text\": \"Ye032917_S4_L003_001_train.bam (8G)\"},\n",
    "\t\t\t { \"id\": \"doublet-datasets/dataset2/Ye032917_S4_L003_001_train_labels.txt\", \"parent\": \"doublet-datasets/dataset2\", \"text\": \"Ye032917_S4_L003_001_train_labels.txt (119K)\"},\n",
    "\t\t\t { \"id\": \"doublet-datasets/dataset2/Ye032917_S4_L003_I1_001.fastq.gz\", \"parent\": \"doublet-datasets/dataset2\", \"text\": \"Ye032917_S4_L003_I1_001.fastq.gz (1G)\"},\n",
    "\t\t\t { \"id\": \"doublet-datasets/dataset2/Ye032917_S4_L003_R1_001.fastq.gz\", \"parent\": \"doublet-datasets/dataset2\", \"text\": \"Ye032917_S4_L003_R1_001.fastq.gz (5G)\"},\n",
    "\t\t\t { \"id\": \"doublet-datasets/dataset2/Ye032917_S4_L003_R2_001.fastq.gz\", \"parent\": \"doublet-datasets/dataset2\", \"text\": \"Ye032917_S4_L003_R2_001.fastq.gz (17G)\"},\n",
    "\t\t\t { \"id\": \"doublet-datasets/dataset2/Ye3_barcode_id.csv\", \"parent\": \"doublet-datasets/dataset2\", \"text\": \"Ye3_barcode_id.csv (5M)\"},\n",
    "\t\t\t { \"id\": \"doublet-datasets/dataset2/Ye3_gene_id.csv\", \"parent\": \"doublet-datasets/dataset2\", \"text\": \"Ye3_gene_id.csv (405K)\"},\n",
    "\t\t\t { \"id\": \"doublet-datasets/dataset2/Ye3_sparse_molecule_counts.mtx\", \"parent\": \"doublet-datasets/dataset2\", \"text\": \"Ye3_sparse_molecule_counts.mtx (156M)\"}], \n",
    "     \"challenge_id\": 1}\n",
    "\n",
    "]\n",
    "\n",
    "for dataset in datasets:\n",
    "    new_dataset = Dataset(**dataset)\n",
    "    session.add(new_dataset)\n",
    "session.commit()"
   ]
  },
  {
   "cell_type": "code",
   "execution_count": 31,
   "metadata": {
    "collapsed": true
   },
   "outputs": [],
   "source": [
    "submissions = [\n",
    "    {\n",
    "        \"name\": \"Algorithm #1\",\n",
    "        \"user_id\": 1,\n",
    "        \"challenge_id\": 1,\n",
    "        \"repository\": \"https://github.com/chanzuckerberg/hca-bakeoff-site\",\n",
    "        \"results_path\": \"\",\n",
    "        \"score_data\": {\n",
    "            \"data\": [0.9, 0.8, 0.7, 0.6, 0.5, 0.4],\n",
    "            \"additionalData\": [[1, 1, 1, 1, 1, 1], [1, 1, 1, 1, 1, 1]],\n",
    "        },\n",
    "        \"publication\": \"https://chanzuckerberg.com/\",\n",
    "        \"institution\": \"\",\n",
    "        \"is_private\": False,\n",
    "        \"is_accepted\": True,\n",
    "    },\n",
    "    {\n",
    "        \"name\": \"Unapproved Algorithm\",\n",
    "        \"user_id\": 2,\n",
    "        \"challenge_id\": 1,\n",
    "        \"repository\": \"https://github.com/chanzuckerberg/hca-bakeoff-site\",\n",
    "        \"results_path\": \"\",\n",
    "        \"score_data\": {\n",
    "            \"data\": [0.6, 0.5, 0.3, 0.4, 0.89, 0.3],\n",
    "            \"additionalData\": [[1, 1, 1, 1, 1, 1], [1, 1, 1, 1, 1, 1]],\n",
    "        },\n",
    "        \"publication\": \"https://chanzuckerberg.com/, https://chanzuckerberg.com/\",\n",
    "        \"institution\": \"\",\n",
    "        \"is_private\": False,\n",
    "        \"is_accepted\": False,\n",
    "    },\n",
    "    {\n",
    "        \"name\": \"Algorithm #3\",\n",
    "        \"user_id\": 2,\n",
    "        \"challenge_id\": 1,\n",
    "        \"repository\": \"https://github.com/chanzuckerberg/hca-bakeoff-site\",\n",
    "        \"results_path\": \"\",\n",
    "        \"score_data\": {\n",
    "            \"data\": [0.4, 0.11, 0.1, 0.99, 0.46, 0.32],\n",
    "            \"additionalData\": [[1, 1, 1, 1, 1, 1], [1, 1, 1, 1, 1, 1]],\n",
    "        },\n",
    "        \"institution\": \"\",\n",
    "        \"is_private\": False,\n",
    "        \"is_accepted\": True,\n",
    "    },\n",
    "    {\n",
    "        \"name\": \"B-Algorithm #2\",\n",
    "        \"user_id\": 4,\n",
    "        \"challenge_id\": 1,\n",
    "        \"repository\": \"https://github.com/chanzuckerberg/hca-bakeoff-site\",\n",
    "        \"results_path\": \"\",\n",
    "        \"score_data\": {\n",
    "            \"data\": [0.4, 0.11, 0.1, 0.99, 0.46, 0.32],\n",
    "            \"additionalData\": [[1, 1, 1, 1, 1, 1], [1, 1, 1, 1, 1, 1]],\n",
    "        },\n",
    "        \"institution\": \"\",\n",
    "        \"is_private\": False,\n",
    "        \"is_accepted\": True,\n",
    "    },\n",
    "]\n",
    "for submission in submissions:\n",
    "    new_submission = Submission(**submission)\n",
    "    session.add(new_submission)\n",
    "session.commit()"
   ]
  },
  {
   "cell_type": "code",
   "execution_count": null,
   "metadata": {
    "collapsed": true
   },
   "outputs": [],
   "source": []
  }
 ],
 "metadata": {
  "kernelspec": {
   "display_name": "Python 3",
   "language": "python",
   "name": "python3"
  },
  "language_info": {
   "codemirror_mode": {
    "name": "ipython",
    "version": 3
   },
   "file_extension": ".py",
   "mimetype": "text/x-python",
   "name": "python",
   "nbconvert_exporter": "python",
   "pygments_lexer": "ipython3",
   "version": "3.6.1"
  }
 },
 "nbformat": 4,
 "nbformat_minor": 2
}
